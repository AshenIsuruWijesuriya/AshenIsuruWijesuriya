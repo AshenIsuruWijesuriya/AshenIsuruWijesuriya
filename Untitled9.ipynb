{
  "nbformat": 4,
  "nbformat_minor": 0,
  "metadata": {
    "colab": {
      "provenance": [],
      "authorship_tag": "ABX9TyNEIPW9HJKDxusBkvxXIDDQ",
      "include_colab_link": true
    },
    "kernelspec": {
      "name": "python3",
      "display_name": "Python 3"
    },
    "language_info": {
      "name": "python"
    }
  },
  "cells": [
    {
      "cell_type": "markdown",
      "metadata": {
        "id": "view-in-github",
        "colab_type": "text"
      },
      "source": [
        "<a href=\"https://colab.research.google.com/github/AshenIsuruWijesuriya/AshenIsuruWijesuriya/blob/main/Untitled9.ipynb\" target=\"_parent\"><img src=\"https://colab.research.google.com/assets/colab-badge.svg\" alt=\"Open In Colab\"/></a>"
      ]
    },
    {
      "cell_type": "code",
      "execution_count": 1,
      "metadata": {
        "colab": {
          "base_uri": "https://localhost:8080/"
        },
        "id": "-urG9uZlyBlm",
        "outputId": "05979845-d1f9-4a33-83e3-006b2c2960dd"
      },
      "outputs": [
        {
          "output_type": "stream",
          "name": "stdout",
          "text": [
            "   CustomerID   Age    Income  Gender  Purchased\n",
            "0           1  56.0   28392.0    Male          1\n",
            "1           2  46.0   -9999.0    Male          1\n",
            "2           3  32.0   98603.0    Male          0\n",
            "3           4  25.0   72256.0   Other          0\n",
            "4           5  38.0  109135.0  Female          1\n",
            "5           6   NaN   55222.0  Female          1\n",
            "6           7  36.0   97373.0    Male          0\n",
            "7           8  40.0   99575.0  Female          0\n",
            "8           9  28.0  116354.0  Female          1\n",
            "9          10  28.0  104651.0   Other          0\n"
          ]
        }
      ],
      "source": [
        "import pandas as pd\n",
        "import numpy as np\n",
        "\n",
        "# Reproducibility\n",
        "np.random.seed(42)\n",
        "\n",
        "# Create dataset\n",
        "data = {\n",
        "    \"CustomerID\": range(1, 101),\n",
        "    \"Age\": np.random.randint(18, 60, size=100),\n",
        "    \"Income\": np.random.randint(20000, 120000, size=100).astype(float),\n",
        "    \"Gender\": np.random.choice([\"Male\", \"Female\", \"Other\"], size=100),\n",
        "    \"Purchased\": np.random.choice([0, 1], size=100)  # 0 = No, 1 = Yes\n",
        "}\n",
        "\n",
        "df = pd.DataFrame(data)\n",
        "\n",
        "# Introduce some missing values\n",
        "df.loc[np.random.choice(df.index, 10, replace=False), \"Income\"] = np.nan\n",
        "df.loc[np.random.choice(df.index, 5, replace=False), \"Age\"] = np.nan\n",
        "\n",
        "# Introduce noisy/outlier values\n",
        "df.loc[np.random.choice(df.index, 3, replace=False), \"Income\"] = -9999  # Invalid income\n",
        "\n",
        "print(df.head(10))\n"
      ]
    },
    {
      "cell_type": "code",
      "source": [
        "# Fill missing Age with mean\n",
        "df[\"Age\"].fillna(df[\"Age\"].mean(), inplace=True)\n",
        "\n",
        "# Fill missing Income with median\n",
        "df[\"Income\"].fillna(df[\"Income\"].median(), inplace=True)\n",
        "print(df.head(10))\n"
      ],
      "metadata": {
        "colab": {
          "base_uri": "https://localhost:8080/"
        },
        "id": "ZkQWliL8yISa",
        "outputId": "0e1b35cd-54c7-4c7f-b7c5-078c57e2230d"
      },
      "execution_count": 7,
      "outputs": [
        {
          "output_type": "stream",
          "name": "stdout",
          "text": [
            "   CustomerID        Age    Income  Gender  Purchased\n",
            "0           1  56.000000   28392.0    Male          1\n",
            "1           2  46.000000   -9999.0    Male          1\n",
            "2           3  32.000000   98603.0    Male          0\n",
            "3           4  25.000000   72256.0   Other          0\n",
            "4           5  38.000000  109135.0  Female          1\n",
            "5           6  37.715789   55222.0  Female          1\n",
            "6           7  36.000000   97373.0    Male          0\n",
            "7           8  40.000000   99575.0  Female          0\n",
            "8           9  28.000000  116354.0  Female          1\n",
            "9          10  28.000000  104651.0   Other          0\n"
          ]
        },
        {
          "output_type": "stream",
          "name": "stderr",
          "text": [
            "/tmp/ipython-input-1362414243.py:2: FutureWarning: A value is trying to be set on a copy of a DataFrame or Series through chained assignment using an inplace method.\n",
            "The behavior will change in pandas 3.0. This inplace method will never work because the intermediate object on which we are setting values always behaves as a copy.\n",
            "\n",
            "For example, when doing 'df[col].method(value, inplace=True)', try using 'df.method({col: value}, inplace=True)' or df[col] = df[col].method(value) instead, to perform the operation inplace on the original object.\n",
            "\n",
            "\n",
            "  df[\"Age\"].fillna(df[\"Age\"].mean(), inplace=True)\n",
            "/tmp/ipython-input-1362414243.py:5: FutureWarning: A value is trying to be set on a copy of a DataFrame or Series through chained assignment using an inplace method.\n",
            "The behavior will change in pandas 3.0. This inplace method will never work because the intermediate object on which we are setting values always behaves as a copy.\n",
            "\n",
            "For example, when doing 'df[col].method(value, inplace=True)', try using 'df.method({col: value}, inplace=True)' or df[col] = df[col].method(value) instead, to perform the operation inplace on the original object.\n",
            "\n",
            "\n",
            "  df[\"Income\"].fillna(df[\"Income\"].median(), inplace=True)\n"
          ]
        }
      ]
    },
    {
      "cell_type": "code",
      "metadata": {
        "colab": {
          "base_uri": "https://localhost:8080/"
        },
        "id": "d24ab7f1",
        "outputId": "8ad2713a-32d9-4c1a-89af-c6247172f9c8"
      },
      "source": [
        "print(df.head(10))"
      ],
      "execution_count": 5,
      "outputs": [
        {
          "output_type": "stream",
          "name": "stdout",
          "text": [
            "   CustomerID        Age    Income  Gender  Purchased\n",
            "0           1  56.000000   28392.0    Male          1\n",
            "1           2  46.000000   -9999.0    Male          1\n",
            "2           3  32.000000   98603.0    Male          0\n",
            "3           4  25.000000   72256.0   Other          0\n",
            "4           5  38.000000  109135.0  Female          1\n",
            "5           6  37.715789   55222.0  Female          1\n",
            "6           7  36.000000   97373.0    Male          0\n",
            "7           8  40.000000   99575.0  Female          0\n",
            "8           9  28.000000  116354.0  Female          1\n",
            "9          10  28.000000  104651.0   Other          0\n"
          ]
        }
      ]
    },
    {
      "cell_type": "code",
      "source": [
        "# Replace negative Income values with median\n",
        "df.loc[df[\"Income\"] < 0, \"Income\"] = df[\"Income\"].median()\n"
      ],
      "metadata": {
        "id": "R8GXA9-h3TyE"
      },
      "execution_count": 9,
      "outputs": []
    },
    {
      "cell_type": "code",
      "metadata": {
        "colab": {
          "base_uri": "https://localhost:8080/"
        },
        "id": "a71b950d",
        "outputId": "bef20059-c253-4302-a319-78947d725c68"
      },
      "source": [
        "print(df.head(10))"
      ],
      "execution_count": 10,
      "outputs": [
        {
          "output_type": "stream",
          "name": "stdout",
          "text": [
            "   CustomerID        Age    Income  Gender  Purchased\n",
            "0           1  56.000000   28392.0    Male          1\n",
            "1           2  46.000000   74268.0    Male          1\n",
            "2           3  32.000000   98603.0    Male          0\n",
            "3           4  25.000000   72256.0   Other          0\n",
            "4           5  38.000000  109135.0  Female          1\n",
            "5           6  37.715789   55222.0  Female          1\n",
            "6           7  36.000000   97373.0    Male          0\n",
            "7           8  40.000000   99575.0  Female          0\n",
            "8           9  28.000000  116354.0  Female          1\n",
            "9          10  28.000000  104651.0   Other          0\n"
          ]
        }
      ]
    },
    {
      "cell_type": "code",
      "source": [
        "\n",
        "from sklearn.preprocessing import MinMaxScaler\n",
        "\n",
        "scaler = MinMaxScaler()\n",
        "df[\"Income_norm\"] = scaler.fit_transform(df[[\"Income\"]])"
      ],
      "metadata": {
        "id": "sQEylhAs4AFC"
      },
      "execution_count": 11,
      "outputs": []
    },
    {
      "cell_type": "code",
      "source": [
        "from sklearn.preprocessing import StandardScaler\n",
        "\n",
        "scaler = StandardScaler()\n",
        "df[\"Age_zscore\"] = scaler.fit_transform(df[[\"Age\"]])\n"
      ],
      "metadata": {
        "id": "HslnELs74p4x"
      },
      "execution_count": 12,
      "outputs": []
    },
    {
      "cell_type": "code",
      "source": [
        "df[\"Age_group\"] = pd.cut(df[\"Age\"], bins=[17, 30, 45, 60], labels=[\"Youth\", \"Adult\", \"Senior\"])\n"
      ],
      "metadata": {
        "id": "5YIYGR1P4yIK"
      },
      "execution_count": 13,
      "outputs": []
    },
    {
      "cell_type": "code",
      "source": [
        "df_reduced = df.drop(columns=[\"CustomerID\"])\n"
      ],
      "metadata": {
        "id": "yVkmiycT5Oj7"
      },
      "execution_count": 14,
      "outputs": []
    },
    {
      "cell_type": "code",
      "source": [
        "from sklearn.decomposition import PCA\n",
        "\n",
        "features = [\"Age\", \"Income\"]\n",
        "pca = PCA(n_components=1)\n",
        "df[\"PCA_Feature\"] = pca.fit_transform(df[features])\n"
      ],
      "metadata": {
        "id": "hDK-kzms5ZCS"
      },
      "execution_count": 15,
      "outputs": []
    },
    {
      "cell_type": "code",
      "metadata": {
        "colab": {
          "base_uri": "https://localhost:8080/"
        },
        "id": "083185b8",
        "outputId": "227da042-f70e-43df-b574-52e62ba725b2"
      },
      "source": [
        "print(df.head(10))"
      ],
      "execution_count": 16,
      "outputs": [
        {
          "output_type": "stream",
          "name": "stdout",
          "text": [
            "   CustomerID        Age    Income  Gender  Purchased  Income_norm  \\\n",
            "0           1  56.000000   28392.0    Male          1     0.083022   \n",
            "1           2  46.000000   74268.0    Male          1     0.548296   \n",
            "2           3  32.000000   98603.0    Male          0     0.795101   \n",
            "3           4  25.000000   72256.0   Other          0     0.527890   \n",
            "4           5  38.000000  109135.0  Female          1     0.901917   \n",
            "5           6  37.715789   55222.0  Female          1     0.355132   \n",
            "6           7  36.000000   97373.0    Male          0     0.782627   \n",
            "7           8  40.000000   99575.0  Female          0     0.804959   \n",
            "8           9  28.000000  116354.0  Female          1     0.975132   \n",
            "9          10  28.000000  104651.0   Other          0     0.856440   \n",
            "\n",
            "   Age_zscore Age_group   PCA_Feature  \n",
            "0    1.563534    Senior -45639.700609  \n",
            "1    0.708406    Senior    236.299712  \n",
            "2   -0.488773     Adult  24571.300184  \n",
            "3   -1.087363     Youth  -1775.699557  \n",
            "4    0.024304     Adult  35103.299969  \n",
            "5    0.000000     Adult -18809.699989  \n",
            "6   -0.146722     Adult  23341.300046  \n",
            "7    0.195329     Adult  25543.299905  \n",
            "8   -0.830824     Youth  42322.300312  \n",
            "9   -0.830824     Youth  30619.300320  \n"
          ]
        }
      ]
    },
    {
      "cell_type": "code",
      "source": [
        "region_data = pd.DataFrame({\n",
        "    \"CustomerID\": range(1, 101),\n",
        "    \"Region\": np.random.choice([\"North\", \"South\", \"East\", \"West\"], size=100)\n",
        "})\n",
        "\n",
        "df = df.merge(region_data, on=\"CustomerID\")\n"
      ],
      "metadata": {
        "id": "MbxWBBN859wH"
      },
      "execution_count": 17,
      "outputs": []
    },
    {
      "cell_type": "code",
      "metadata": {
        "colab": {
          "base_uri": "https://localhost:8080/"
        },
        "id": "1275411f",
        "outputId": "282cb026-8233-4926-af04-e478a4bc79ec"
      },
      "source": [
        "print(df.head(10))"
      ],
      "execution_count": 19,
      "outputs": [
        {
          "output_type": "stream",
          "name": "stdout",
          "text": [
            "   CustomerID        Age    Income  Gender  Purchased  Income_norm  \\\n",
            "0           1  56.000000   28392.0    Male          1     0.083022   \n",
            "1           2  46.000000   74268.0    Male          1     0.548296   \n",
            "2           3  32.000000   98603.0    Male          0     0.795101   \n",
            "3           4  25.000000   72256.0   Other          0     0.527890   \n",
            "4           5  38.000000  109135.0  Female          1     0.901917   \n",
            "5           6  37.715789   55222.0  Female          1     0.355132   \n",
            "6           7  36.000000   97373.0    Male          0     0.782627   \n",
            "7           8  40.000000   99575.0  Female          0     0.804959   \n",
            "8           9  28.000000  116354.0  Female          1     0.975132   \n",
            "9          10  28.000000  104651.0   Other          0     0.856440   \n",
            "\n",
            "   Age_zscore Age_group   PCA_Feature Region  \n",
            "0    1.563534    Senior -45639.700609   West  \n",
            "1    0.708406    Senior    236.299712   West  \n",
            "2   -0.488773     Adult  24571.300184  South  \n",
            "3   -1.087363     Youth  -1775.699557   West  \n",
            "4    0.024304     Adult  35103.299969   West  \n",
            "5    0.000000     Adult -18809.699989   West  \n",
            "6   -0.146722     Adult  23341.300046  North  \n",
            "7    0.195329     Adult  25543.299905   West  \n",
            "8   -0.830824     Youth  42322.300312  South  \n",
            "9   -0.830824     Youth  30619.300320   West  \n"
          ]
        }
      ]
    }
  ]
}